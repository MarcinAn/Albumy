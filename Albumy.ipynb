{
  "nbformat": 4,
  "nbformat_minor": 0,
  "metadata": {
    "colab": {
      "provenance": [],
      "authorship_tag": "ABX9TyMW5QJQkwgjIleknrcKuMB7",
      "include_colab_link": true
    },
    "kernelspec": {
      "name": "python3",
      "display_name": "Python 3"
    },
    "language_info": {
      "name": "python"
    }
  },
  "cells": [
    {
      "cell_type": "markdown",
      "metadata": {
        "id": "view-in-github",
        "colab_type": "text"
      },
      "source": [
        "<a href=\"https://colab.research.google.com/github/MarcinAn/Albumy/blob/main/Albumy.ipynb\" target=\"_parent\"><img src=\"https://colab.research.google.com/assets/colab-badge.svg\" alt=\"Open In Colab\"/></a>"
      ]
    },
    {
      "cell_type": "markdown",
      "source": [
        "**Pobieranie danych**"
      ],
      "metadata": {
        "id": "-ecOy8JvmKlw"
      }
    },
    {
      "cell_type": "code",
      "execution_count": null,
      "metadata": {
        "id": "9cZkaZuIYHfO"
      },
      "outputs": [],
      "source": [
        "import pandas as pd\n",
        "data = pd.read_html('https://www.officialcharts.com/chart-news/the-best-selling-albums-of-all-time-on-the-official-uk-chart__15551', header=0)\n",
        "df = data[0]"
      ]
    },
    {
      "cell_type": "markdown",
      "source": [
        "**Zamień nagłówki kolumn na polskie odpowiedniki:**"
      ],
      "metadata": {
        "id": "xSORP858mZ5T"
      }
    },
    {
      "cell_type": "code",
      "source": [
        "df.rename(columns={'TITLE' : 'TYTUŁ','ARTIST':'ARTYSTA',\t'YEAR':'ROK',\t'HIGH POSN':'MAX POZ'}, inplace=True)\n",
        "df.columns"
      ],
      "metadata": {
        "colab": {
          "base_uri": "https://localhost:8080/"
        },
        "id": "nad9F78wYgyd",
        "outputId": "ed47613b-d09a-42b8-ebf0-5a8f464549d0"
      },
      "execution_count": null,
      "outputs": [
        {
          "output_type": "execute_result",
          "data": {
            "text/plain": [
              "Index(['POS', 'TYTUŁ', 'ARTYSTA', 'ROK', 'MAX POZ'], dtype='object')"
            ]
          },
          "metadata": {},
          "execution_count": 186
        }
      ]
    },
    {
      "cell_type": "markdown",
      "source": [
        "**Ilu pojedynczych artystów znajduje się na liście?**"
      ],
      "metadata": {
        "id": "jJHTYPV0moeM"
      }
    },
    {
      "cell_type": "code",
      "source": [
        "print('Ilość pojedynczych artystów w liście:', len(df['ARTYSTA'].unique()))"
      ],
      "metadata": {
        "colab": {
          "base_uri": "https://localhost:8080/"
        },
        "id": "SGpxvVRcZYC5",
        "outputId": "3536a55f-25ad-4e0a-c913-acfa925b4240"
      },
      "execution_count": null,
      "outputs": [
        {
          "output_type": "stream",
          "name": "stdout",
          "text": [
            "Ilość pojedynczych artystów w liście: 47\n"
          ]
        }
      ]
    },
    {
      "cell_type": "markdown",
      "source": [
        "**Które zespoły pojawiają się najczęściej na liście?**"
      ],
      "metadata": {
        "id": "ckix5OCIm_yx"
      }
    },
    {
      "cell_type": "code",
      "source": [
        "most_artist = pd.DataFrame(df['ARTYSTA'].value_counts() == max(df['ARTYSTA'].value_counts()))\n",
        "most_artist = most_artist[most_artist['ARTYSTA'] == True].reset_index()\n",
        "most_artist.drop('ARTYSTA', axis=1, inplace=True)\n",
        "print('Najczęściej występującymi artystami są:')\n",
        "for artist in most_artist['index']:\n",
        "    print(artist)"
      ],
      "metadata": {
        "colab": {
          "base_uri": "https://localhost:8080/"
        },
        "id": "fl7YG7Ebzkl0",
        "outputId": "98011002-fbfd-41d1-cbb2-e2d3bd2c306c"
      },
      "execution_count": null,
      "outputs": [
        {
          "output_type": "stream",
          "name": "stdout",
          "text": [
            "Najczęściej występującymi artystami są:\n",
            "COLDPLAY\n",
            "TAKE THAT\n"
          ]
        }
      ]
    },
    {
      "cell_type": "markdown",
      "source": [
        "**Zmień nagłówki kolumn, tak aby każdy z nich rozpoczynał się od wielkiej litery, a pozostałe były wprowadzone małymi literami.**"
      ],
      "metadata": {
        "id": "IgguaCr3nLvI"
      }
    },
    {
      "cell_type": "code",
      "source": [
        "df.rename(str.capitalize, axis='columns', inplace=True)\n",
        "df.columns"
      ],
      "metadata": {
        "colab": {
          "base_uri": "https://localhost:8080/"
        },
        "id": "4T8aIYCfjztV",
        "outputId": "990fa3f9-7d9f-4857-b518-23f3336dc3a2"
      },
      "execution_count": null,
      "outputs": [
        {
          "output_type": "execute_result",
          "data": {
            "text/plain": [
              "Index(['Pos', 'Tytuł', 'Artysta', 'Rok', 'Max poz'], dtype='object')"
            ]
          },
          "metadata": {},
          "execution_count": 189
        }
      ]
    },
    {
      "cell_type": "markdown",
      "source": [
        "**Wyrzuć z tabeli kolumnę ‘Max Poz’.**"
      ],
      "metadata": {
        "id": "Nn3x5rMEnZFC"
      }
    },
    {
      "cell_type": "code",
      "source": [
        "df.drop(['Max poz'], axis=1, inplace=True)\n",
        "df.columns"
      ],
      "metadata": {
        "colab": {
          "base_uri": "https://localhost:8080/"
        },
        "id": "016SNRFznLVf",
        "outputId": "7fd127c4-bf4c-42d6-9d88-1f8ae7c78cb7"
      },
      "execution_count": null,
      "outputs": [
        {
          "output_type": "execute_result",
          "data": {
            "text/plain": [
              "Index(['Pos', 'Tytuł', 'Artysta', 'Rok'], dtype='object')"
            ]
          },
          "metadata": {},
          "execution_count": 190
        }
      ]
    },
    {
      "cell_type": "markdown",
      "source": [
        "**W którym roku wyszło najwięcej albumów znajdujących się na liście?**"
      ],
      "metadata": {
        "id": "gQ1pr4FEpCVy"
      }
    },
    {
      "cell_type": "code",
      "source": [
        "year = df.groupby('Rok').agg({'Tytuł':'count'})\n",
        "year = year[year['Tytuł']==year['Tytuł'].max()].reset_index()\n",
        "print('Lata w których wydano najwięcej albumów:')\n",
        "for y in year['Rok']:\n",
        "    print(y)"
      ],
      "metadata": {
        "colab": {
          "base_uri": "https://localhost:8080/"
        },
        "id": "B0SyAJRqpGxA",
        "outputId": "895b9869-a322-40c9-8925-d53c3ea5de59"
      },
      "execution_count": null,
      "outputs": [
        {
          "output_type": "stream",
          "name": "stdout",
          "text": [
            "Lata w których wydano najwięcej albumów:\n",
            "1987\n",
            "2000\n"
          ]
        }
      ]
    },
    {
      "cell_type": "markdown",
      "source": [
        "**Ile albumów wydanych między 1960 a 1990 rokiem włącznie znajduje się na liście?**"
      ],
      "metadata": {
        "id": "dibc4dEnzGNa"
      }
    },
    {
      "cell_type": "code",
      "source": [
        "year_between = df[(df['Rok'] >= 1960) & (df['Rok'] <= 1990)]\n",
        "print('Ilość albumów wydanych pomiędzy 1960 a 1990 wynosi:', year_between['Tytuł'].count())"
      ],
      "metadata": {
        "colab": {
          "base_uri": "https://localhost:8080/"
        },
        "id": "f1K0QvSAzNxC",
        "outputId": "51291bac-1033-4901-9f0b-8c97e3c3284c"
      },
      "execution_count": null,
      "outputs": [
        {
          "output_type": "stream",
          "name": "stdout",
          "text": [
            "Ilość albumów wydanych pomiędzy 1960 a 1990 wynosi: 22\n"
          ]
        }
      ]
    },
    {
      "cell_type": "markdown",
      "source": [
        "**W którym roku wydany został najmłodszy album na liście?**"
      ],
      "metadata": {
        "id": "_j-d1z_G6l4y"
      }
    },
    {
      "cell_type": "code",
      "source": [
        "df[df['Rok']==df['Rok'].min()]\n",
        "print('Najmłodszy album na liście został wydany w roku:', df['Rok'].min())"
      ],
      "metadata": {
        "colab": {
          "base_uri": "https://localhost:8080/"
        },
        "id": "zRV6_7Hd6_T_",
        "outputId": "4931e82e-e47f-4ee5-a245-9c5bc80e0dfb"
      },
      "execution_count": null,
      "outputs": [
        {
          "output_type": "stream",
          "name": "stdout",
          "text": [
            "Najmłodszy album na liście został wydany w roku: 1965\n"
          ]
        }
      ]
    },
    {
      "cell_type": "markdown",
      "source": [
        "**Przygotuj listę najwcześniej wydanych albumów każdego artysty, który znalazł się na liście.**"
      ],
      "metadata": {
        "id": "TJpgrgWN75zR"
      }
    },
    {
      "cell_type": "code",
      "source": [
        "earliest_album = df.sort_values(by='Rok')\n",
        "earliest_album = earliest_album.drop_duplicates(subset='Artysta', keep='first').reset_index()\n",
        "earliest_album = earliest_album.reset_index().drop(['index'], axis=1)\n",
        "earliest_album"
      ],
      "metadata": {
        "colab": {
          "base_uri": "https://localhost:8080/",
          "height": 1000
        },
        "id": "kf8jWyyG79h-",
        "outputId": "a269e6c7-70d4-454d-c0d5-150605905a22"
      },
      "execution_count": null,
      "outputs": [
        {
          "output_type": "execute_result",
          "data": {
            "text/plain": [
              "    level_0  Pos                                   Tytuł  \\\n",
              "0         0   52                      THE SOUND OF MUSIC   \n",
              "1         1    3    SGT PEPPER'S LONELY HEARTS CLUB BAND   \n",
              "2         2   21              BRIDGE OVER TROUBLED WATER   \n",
              "3         3    7               THE DARK SIDE OF THE MOON   \n",
              "4         4   42                           TUBULAR BELLS   \n",
              "5         5   46                           GREATEST HITS   \n",
              "6         6   19                         BAT OUT OF HELL   \n",
              "7         7   11                                 RUMOURS   \n",
              "8         8   47                                  GREASE   \n",
              "9         9   37                   THE WAR OF THE WORLDS   \n",
              "10       10    1                           GREATEST HITS   \n",
              "11       11    6                                THRILLER   \n",
              "12       12   16                                  LEGEND   \n",
              "13       13    8                        BROTHERS IN ARMS   \n",
              "14       14   51                               GRACELAND   \n",
              "15       15   36                         THE JOSHUA TREE   \n",
              "16       16   44                           TRACY CHAPMAN   \n",
              "17       17   39                           BUT SERIOUSLY   \n",
              "18       18   12               THE IMMACULATE COLLECTION   \n",
              "19       19   14                                   STARS   \n",
              "20       20   60                AUTOMATIC FOR THE PEOPLE   \n",
              "21       21    5          WHAT'S THE STORY MORNING GLORY   \n",
              "22       22   41                      JAGGED LITTLE PILL   \n",
              "23       23   29                                   SPICE   \n",
              "24       24   28                         TALK ON CORNERS   \n",
              "25       25   15                            COME ON OVER   \n",
              "26       26   18                             URBAN HYMNS   \n",
              "27       27   26                            WHITE LADDER   \n",
              "28       28   53        LADIES & GENTLEMEN - THE BEST OF   \n",
              "29       29   48                 I'VE BEEN EXPECTING YOU   \n",
              "30       30   43                             THE MAN WHO   \n",
              "31       31   25                                NO ANGEL   \n",
              "32       32   45                              PARACHUTES   \n",
              "33       33   55                 THE MARSHALL MATHERS LP   \n",
              "34       34   50                       COME AWAY WITH ME   \n",
              "35       35   38                         SCISSOR SISTERS   \n",
              "36       36   35                         HOPES AND FEARS   \n",
              "37       37   17                          BACK TO BEDLAM   \n",
              "38       38   59  NEVER FORGET - THE ULTIMATE COLLECTION   \n",
              "39       39   58                               EYES OPEN   \n",
              "40       40   13                           BACK TO BLACK   \n",
              "41       41   23                                  SPIRIT   \n",
              "42       42   33                       ONLY BY THE NIGHT   \n",
              "43       43   30                                THE FAME   \n",
              "44       44   24                              CRAZY LOVE   \n",
              "45       45    4                                      21   \n",
              "46       46   49                                       X   \n",
              "\n",
              "                     Artysta   Rok  \n",
              "0    ORIGINAL CAST RECORDING  1965  \n",
              "1                    BEATLES  1967  \n",
              "2          SIMON & GARFUNKEL  1970  \n",
              "3                 PINK FLOYD  1973  \n",
              "4              MIKE OLDFIELD  1973  \n",
              "5                       ABBA  1975  \n",
              "6                  MEAT LOAF  1977  \n",
              "7              FLEETWOOD MAC  1977  \n",
              "8        ORIGINAL SOUNDTRACK  1977  \n",
              "9                 JEFF WAYNE  1978  \n",
              "10                     QUEEN  1981  \n",
              "11           MICHAEL JACKSON  1982  \n",
              "12  BOB MARLEY & THE WAILERS  1984  \n",
              "13              DIRE STRAITS  1985  \n",
              "14                PAUL SIMON  1986  \n",
              "15                        U2  1987  \n",
              "16             TRACY CHAPMAN  1988  \n",
              "17              PHIL COLLINS  1989  \n",
              "18                   MADONNA  1990  \n",
              "19                SIMPLY RED  1991  \n",
              "20                       REM  1992  \n",
              "21                     OASIS  1995  \n",
              "22         ALANIS MORISSETTE  1995  \n",
              "23               SPICE GIRLS  1996  \n",
              "24                     CORRS  1997  \n",
              "25              SHANIA TWAIN  1997  \n",
              "26                     VERVE  1997  \n",
              "27                DAVID GRAY  1998  \n",
              "28            GEORGE MICHAEL  1998  \n",
              "29           ROBBIE WILLIAMS  1998  \n",
              "30                    TRAVIS  1999  \n",
              "31                      DIDO  2000  \n",
              "32                  COLDPLAY  2000  \n",
              "33                    EMINEM  2000  \n",
              "34               NORAH JONES  2002  \n",
              "35           SCISSOR SISTERS  2004  \n",
              "36                     KEANE  2004  \n",
              "37               JAMES BLUNT  2004  \n",
              "38                 TAKE THAT  2005  \n",
              "39               SNOW PATROL  2006  \n",
              "40             AMY WINEHOUSE  2006  \n",
              "41               LEONA LEWIS  2007  \n",
              "42             KINGS OF LEON  2008  \n",
              "43                 LADY GAGA  2008  \n",
              "44             MICHAEL BUBLE  2009  \n",
              "45                     ADELE  2011  \n",
              "46                ED SHEERAN  2014  "
            ],
            "text/html": [
              "\n",
              "\n",
              "  <div id=\"df-2701423c-bb8b-42a8-b3f2-25bb33a80f6a\">\n",
              "    <div class=\"colab-df-container\">\n",
              "      <div>\n",
              "<style scoped>\n",
              "    .dataframe tbody tr th:only-of-type {\n",
              "        vertical-align: middle;\n",
              "    }\n",
              "\n",
              "    .dataframe tbody tr th {\n",
              "        vertical-align: top;\n",
              "    }\n",
              "\n",
              "    .dataframe thead th {\n",
              "        text-align: right;\n",
              "    }\n",
              "</style>\n",
              "<table border=\"1\" class=\"dataframe\">\n",
              "  <thead>\n",
              "    <tr style=\"text-align: right;\">\n",
              "      <th></th>\n",
              "      <th>level_0</th>\n",
              "      <th>Pos</th>\n",
              "      <th>Tytuł</th>\n",
              "      <th>Artysta</th>\n",
              "      <th>Rok</th>\n",
              "    </tr>\n",
              "  </thead>\n",
              "  <tbody>\n",
              "    <tr>\n",
              "      <th>0</th>\n",
              "      <td>0</td>\n",
              "      <td>52</td>\n",
              "      <td>THE SOUND OF MUSIC</td>\n",
              "      <td>ORIGINAL CAST RECORDING</td>\n",
              "      <td>1965</td>\n",
              "    </tr>\n",
              "    <tr>\n",
              "      <th>1</th>\n",
              "      <td>1</td>\n",
              "      <td>3</td>\n",
              "      <td>SGT PEPPER'S LONELY HEARTS CLUB BAND</td>\n",
              "      <td>BEATLES</td>\n",
              "      <td>1967</td>\n",
              "    </tr>\n",
              "    <tr>\n",
              "      <th>2</th>\n",
              "      <td>2</td>\n",
              "      <td>21</td>\n",
              "      <td>BRIDGE OVER TROUBLED WATER</td>\n",
              "      <td>SIMON &amp; GARFUNKEL</td>\n",
              "      <td>1970</td>\n",
              "    </tr>\n",
              "    <tr>\n",
              "      <th>3</th>\n",
              "      <td>3</td>\n",
              "      <td>7</td>\n",
              "      <td>THE DARK SIDE OF THE MOON</td>\n",
              "      <td>PINK FLOYD</td>\n",
              "      <td>1973</td>\n",
              "    </tr>\n",
              "    <tr>\n",
              "      <th>4</th>\n",
              "      <td>4</td>\n",
              "      <td>42</td>\n",
              "      <td>TUBULAR BELLS</td>\n",
              "      <td>MIKE OLDFIELD</td>\n",
              "      <td>1973</td>\n",
              "    </tr>\n",
              "    <tr>\n",
              "      <th>5</th>\n",
              "      <td>5</td>\n",
              "      <td>46</td>\n",
              "      <td>GREATEST HITS</td>\n",
              "      <td>ABBA</td>\n",
              "      <td>1975</td>\n",
              "    </tr>\n",
              "    <tr>\n",
              "      <th>6</th>\n",
              "      <td>6</td>\n",
              "      <td>19</td>\n",
              "      <td>BAT OUT OF HELL</td>\n",
              "      <td>MEAT LOAF</td>\n",
              "      <td>1977</td>\n",
              "    </tr>\n",
              "    <tr>\n",
              "      <th>7</th>\n",
              "      <td>7</td>\n",
              "      <td>11</td>\n",
              "      <td>RUMOURS</td>\n",
              "      <td>FLEETWOOD MAC</td>\n",
              "      <td>1977</td>\n",
              "    </tr>\n",
              "    <tr>\n",
              "      <th>8</th>\n",
              "      <td>8</td>\n",
              "      <td>47</td>\n",
              "      <td>GREASE</td>\n",
              "      <td>ORIGINAL SOUNDTRACK</td>\n",
              "      <td>1977</td>\n",
              "    </tr>\n",
              "    <tr>\n",
              "      <th>9</th>\n",
              "      <td>9</td>\n",
              "      <td>37</td>\n",
              "      <td>THE WAR OF THE WORLDS</td>\n",
              "      <td>JEFF WAYNE</td>\n",
              "      <td>1978</td>\n",
              "    </tr>\n",
              "    <tr>\n",
              "      <th>10</th>\n",
              "      <td>10</td>\n",
              "      <td>1</td>\n",
              "      <td>GREATEST HITS</td>\n",
              "      <td>QUEEN</td>\n",
              "      <td>1981</td>\n",
              "    </tr>\n",
              "    <tr>\n",
              "      <th>11</th>\n",
              "      <td>11</td>\n",
              "      <td>6</td>\n",
              "      <td>THRILLER</td>\n",
              "      <td>MICHAEL JACKSON</td>\n",
              "      <td>1982</td>\n",
              "    </tr>\n",
              "    <tr>\n",
              "      <th>12</th>\n",
              "      <td>12</td>\n",
              "      <td>16</td>\n",
              "      <td>LEGEND</td>\n",
              "      <td>BOB MARLEY &amp; THE WAILERS</td>\n",
              "      <td>1984</td>\n",
              "    </tr>\n",
              "    <tr>\n",
              "      <th>13</th>\n",
              "      <td>13</td>\n",
              "      <td>8</td>\n",
              "      <td>BROTHERS IN ARMS</td>\n",
              "      <td>DIRE STRAITS</td>\n",
              "      <td>1985</td>\n",
              "    </tr>\n",
              "    <tr>\n",
              "      <th>14</th>\n",
              "      <td>14</td>\n",
              "      <td>51</td>\n",
              "      <td>GRACELAND</td>\n",
              "      <td>PAUL SIMON</td>\n",
              "      <td>1986</td>\n",
              "    </tr>\n",
              "    <tr>\n",
              "      <th>15</th>\n",
              "      <td>15</td>\n",
              "      <td>36</td>\n",
              "      <td>THE JOSHUA TREE</td>\n",
              "      <td>U2</td>\n",
              "      <td>1987</td>\n",
              "    </tr>\n",
              "    <tr>\n",
              "      <th>16</th>\n",
              "      <td>16</td>\n",
              "      <td>44</td>\n",
              "      <td>TRACY CHAPMAN</td>\n",
              "      <td>TRACY CHAPMAN</td>\n",
              "      <td>1988</td>\n",
              "    </tr>\n",
              "    <tr>\n",
              "      <th>17</th>\n",
              "      <td>17</td>\n",
              "      <td>39</td>\n",
              "      <td>BUT SERIOUSLY</td>\n",
              "      <td>PHIL COLLINS</td>\n",
              "      <td>1989</td>\n",
              "    </tr>\n",
              "    <tr>\n",
              "      <th>18</th>\n",
              "      <td>18</td>\n",
              "      <td>12</td>\n",
              "      <td>THE IMMACULATE COLLECTION</td>\n",
              "      <td>MADONNA</td>\n",
              "      <td>1990</td>\n",
              "    </tr>\n",
              "    <tr>\n",
              "      <th>19</th>\n",
              "      <td>19</td>\n",
              "      <td>14</td>\n",
              "      <td>STARS</td>\n",
              "      <td>SIMPLY RED</td>\n",
              "      <td>1991</td>\n",
              "    </tr>\n",
              "    <tr>\n",
              "      <th>20</th>\n",
              "      <td>20</td>\n",
              "      <td>60</td>\n",
              "      <td>AUTOMATIC FOR THE PEOPLE</td>\n",
              "      <td>REM</td>\n",
              "      <td>1992</td>\n",
              "    </tr>\n",
              "    <tr>\n",
              "      <th>21</th>\n",
              "      <td>21</td>\n",
              "      <td>5</td>\n",
              "      <td>WHAT'S THE STORY MORNING GLORY</td>\n",
              "      <td>OASIS</td>\n",
              "      <td>1995</td>\n",
              "    </tr>\n",
              "    <tr>\n",
              "      <th>22</th>\n",
              "      <td>22</td>\n",
              "      <td>41</td>\n",
              "      <td>JAGGED LITTLE PILL</td>\n",
              "      <td>ALANIS MORISSETTE</td>\n",
              "      <td>1995</td>\n",
              "    </tr>\n",
              "    <tr>\n",
              "      <th>23</th>\n",
              "      <td>23</td>\n",
              "      <td>29</td>\n",
              "      <td>SPICE</td>\n",
              "      <td>SPICE GIRLS</td>\n",
              "      <td>1996</td>\n",
              "    </tr>\n",
              "    <tr>\n",
              "      <th>24</th>\n",
              "      <td>24</td>\n",
              "      <td>28</td>\n",
              "      <td>TALK ON CORNERS</td>\n",
              "      <td>CORRS</td>\n",
              "      <td>1997</td>\n",
              "    </tr>\n",
              "    <tr>\n",
              "      <th>25</th>\n",
              "      <td>25</td>\n",
              "      <td>15</td>\n",
              "      <td>COME ON OVER</td>\n",
              "      <td>SHANIA TWAIN</td>\n",
              "      <td>1997</td>\n",
              "    </tr>\n",
              "    <tr>\n",
              "      <th>26</th>\n",
              "      <td>26</td>\n",
              "      <td>18</td>\n",
              "      <td>URBAN HYMNS</td>\n",
              "      <td>VERVE</td>\n",
              "      <td>1997</td>\n",
              "    </tr>\n",
              "    <tr>\n",
              "      <th>27</th>\n",
              "      <td>27</td>\n",
              "      <td>26</td>\n",
              "      <td>WHITE LADDER</td>\n",
              "      <td>DAVID GRAY</td>\n",
              "      <td>1998</td>\n",
              "    </tr>\n",
              "    <tr>\n",
              "      <th>28</th>\n",
              "      <td>28</td>\n",
              "      <td>53</td>\n",
              "      <td>LADIES &amp; GENTLEMEN - THE BEST OF</td>\n",
              "      <td>GEORGE MICHAEL</td>\n",
              "      <td>1998</td>\n",
              "    </tr>\n",
              "    <tr>\n",
              "      <th>29</th>\n",
              "      <td>29</td>\n",
              "      <td>48</td>\n",
              "      <td>I'VE BEEN EXPECTING YOU</td>\n",
              "      <td>ROBBIE WILLIAMS</td>\n",
              "      <td>1998</td>\n",
              "    </tr>\n",
              "    <tr>\n",
              "      <th>30</th>\n",
              "      <td>30</td>\n",
              "      <td>43</td>\n",
              "      <td>THE MAN WHO</td>\n",
              "      <td>TRAVIS</td>\n",
              "      <td>1999</td>\n",
              "    </tr>\n",
              "    <tr>\n",
              "      <th>31</th>\n",
              "      <td>31</td>\n",
              "      <td>25</td>\n",
              "      <td>NO ANGEL</td>\n",
              "      <td>DIDO</td>\n",
              "      <td>2000</td>\n",
              "    </tr>\n",
              "    <tr>\n",
              "      <th>32</th>\n",
              "      <td>32</td>\n",
              "      <td>45</td>\n",
              "      <td>PARACHUTES</td>\n",
              "      <td>COLDPLAY</td>\n",
              "      <td>2000</td>\n",
              "    </tr>\n",
              "    <tr>\n",
              "      <th>33</th>\n",
              "      <td>33</td>\n",
              "      <td>55</td>\n",
              "      <td>THE MARSHALL MATHERS LP</td>\n",
              "      <td>EMINEM</td>\n",
              "      <td>2000</td>\n",
              "    </tr>\n",
              "    <tr>\n",
              "      <th>34</th>\n",
              "      <td>34</td>\n",
              "      <td>50</td>\n",
              "      <td>COME AWAY WITH ME</td>\n",
              "      <td>NORAH JONES</td>\n",
              "      <td>2002</td>\n",
              "    </tr>\n",
              "    <tr>\n",
              "      <th>35</th>\n",
              "      <td>35</td>\n",
              "      <td>38</td>\n",
              "      <td>SCISSOR SISTERS</td>\n",
              "      <td>SCISSOR SISTERS</td>\n",
              "      <td>2004</td>\n",
              "    </tr>\n",
              "    <tr>\n",
              "      <th>36</th>\n",
              "      <td>36</td>\n",
              "      <td>35</td>\n",
              "      <td>HOPES AND FEARS</td>\n",
              "      <td>KEANE</td>\n",
              "      <td>2004</td>\n",
              "    </tr>\n",
              "    <tr>\n",
              "      <th>37</th>\n",
              "      <td>37</td>\n",
              "      <td>17</td>\n",
              "      <td>BACK TO BEDLAM</td>\n",
              "      <td>JAMES BLUNT</td>\n",
              "      <td>2004</td>\n",
              "    </tr>\n",
              "    <tr>\n",
              "      <th>38</th>\n",
              "      <td>38</td>\n",
              "      <td>59</td>\n",
              "      <td>NEVER FORGET - THE ULTIMATE COLLECTION</td>\n",
              "      <td>TAKE THAT</td>\n",
              "      <td>2005</td>\n",
              "    </tr>\n",
              "    <tr>\n",
              "      <th>39</th>\n",
              "      <td>39</td>\n",
              "      <td>58</td>\n",
              "      <td>EYES OPEN</td>\n",
              "      <td>SNOW PATROL</td>\n",
              "      <td>2006</td>\n",
              "    </tr>\n",
              "    <tr>\n",
              "      <th>40</th>\n",
              "      <td>40</td>\n",
              "      <td>13</td>\n",
              "      <td>BACK TO BLACK</td>\n",
              "      <td>AMY WINEHOUSE</td>\n",
              "      <td>2006</td>\n",
              "    </tr>\n",
              "    <tr>\n",
              "      <th>41</th>\n",
              "      <td>41</td>\n",
              "      <td>23</td>\n",
              "      <td>SPIRIT</td>\n",
              "      <td>LEONA LEWIS</td>\n",
              "      <td>2007</td>\n",
              "    </tr>\n",
              "    <tr>\n",
              "      <th>42</th>\n",
              "      <td>42</td>\n",
              "      <td>33</td>\n",
              "      <td>ONLY BY THE NIGHT</td>\n",
              "      <td>KINGS OF LEON</td>\n",
              "      <td>2008</td>\n",
              "    </tr>\n",
              "    <tr>\n",
              "      <th>43</th>\n",
              "      <td>43</td>\n",
              "      <td>30</td>\n",
              "      <td>THE FAME</td>\n",
              "      <td>LADY GAGA</td>\n",
              "      <td>2008</td>\n",
              "    </tr>\n",
              "    <tr>\n",
              "      <th>44</th>\n",
              "      <td>44</td>\n",
              "      <td>24</td>\n",
              "      <td>CRAZY LOVE</td>\n",
              "      <td>MICHAEL BUBLE</td>\n",
              "      <td>2009</td>\n",
              "    </tr>\n",
              "    <tr>\n",
              "      <th>45</th>\n",
              "      <td>45</td>\n",
              "      <td>4</td>\n",
              "      <td>21</td>\n",
              "      <td>ADELE</td>\n",
              "      <td>2011</td>\n",
              "    </tr>\n",
              "    <tr>\n",
              "      <th>46</th>\n",
              "      <td>46</td>\n",
              "      <td>49</td>\n",
              "      <td>X</td>\n",
              "      <td>ED SHEERAN</td>\n",
              "      <td>2014</td>\n",
              "    </tr>\n",
              "  </tbody>\n",
              "</table>\n",
              "</div>\n",
              "      <button class=\"colab-df-convert\" onclick=\"convertToInteractive('df-2701423c-bb8b-42a8-b3f2-25bb33a80f6a')\"\n",
              "              title=\"Convert this dataframe to an interactive table.\"\n",
              "              style=\"display:none;\">\n",
              "\n",
              "  <svg xmlns=\"http://www.w3.org/2000/svg\" height=\"24px\"viewBox=\"0 0 24 24\"\n",
              "       width=\"24px\">\n",
              "    <path d=\"M0 0h24v24H0V0z\" fill=\"none\"/>\n",
              "    <path d=\"M18.56 5.44l.94 2.06.94-2.06 2.06-.94-2.06-.94-.94-2.06-.94 2.06-2.06.94zm-11 1L8.5 8.5l.94-2.06 2.06-.94-2.06-.94L8.5 2.5l-.94 2.06-2.06.94zm10 10l.94 2.06.94-2.06 2.06-.94-2.06-.94-.94-2.06-.94 2.06-2.06.94z\"/><path d=\"M17.41 7.96l-1.37-1.37c-.4-.4-.92-.59-1.43-.59-.52 0-1.04.2-1.43.59L10.3 9.45l-7.72 7.72c-.78.78-.78 2.05 0 2.83L4 21.41c.39.39.9.59 1.41.59.51 0 1.02-.2 1.41-.59l7.78-7.78 2.81-2.81c.8-.78.8-2.07 0-2.86zM5.41 20L4 18.59l7.72-7.72 1.47 1.35L5.41 20z\"/>\n",
              "  </svg>\n",
              "      </button>\n",
              "\n",
              "\n",
              "\n",
              "    <div id=\"df-83fb9b32-02bc-4561-a0b2-eeb92beae300\">\n",
              "      <button class=\"colab-df-quickchart\" onclick=\"quickchart('df-83fb9b32-02bc-4561-a0b2-eeb92beae300')\"\n",
              "              title=\"Suggest charts.\"\n",
              "              style=\"display:none;\">\n",
              "\n",
              "<svg xmlns=\"http://www.w3.org/2000/svg\" height=\"24px\"viewBox=\"0 0 24 24\"\n",
              "     width=\"24px\">\n",
              "    <g>\n",
              "        <path d=\"M19 3H5c-1.1 0-2 .9-2 2v14c0 1.1.9 2 2 2h14c1.1 0 2-.9 2-2V5c0-1.1-.9-2-2-2zM9 17H7v-7h2v7zm4 0h-2V7h2v10zm4 0h-2v-4h2v4z\"/>\n",
              "    </g>\n",
              "</svg>\n",
              "      </button>\n",
              "    </div>\n",
              "\n",
              "<style>\n",
              "  .colab-df-quickchart {\n",
              "    background-color: #E8F0FE;\n",
              "    border: none;\n",
              "    border-radius: 50%;\n",
              "    cursor: pointer;\n",
              "    display: none;\n",
              "    fill: #1967D2;\n",
              "    height: 32px;\n",
              "    padding: 0 0 0 0;\n",
              "    width: 32px;\n",
              "  }\n",
              "\n",
              "  .colab-df-quickchart:hover {\n",
              "    background-color: #E2EBFA;\n",
              "    box-shadow: 0px 1px 2px rgba(60, 64, 67, 0.3), 0px 1px 3px 1px rgba(60, 64, 67, 0.15);\n",
              "    fill: #174EA6;\n",
              "  }\n",
              "\n",
              "  [theme=dark] .colab-df-quickchart {\n",
              "    background-color: #3B4455;\n",
              "    fill: #D2E3FC;\n",
              "  }\n",
              "\n",
              "  [theme=dark] .colab-df-quickchart:hover {\n",
              "    background-color: #434B5C;\n",
              "    box-shadow: 0px 1px 3px 1px rgba(0, 0, 0, 0.15);\n",
              "    filter: drop-shadow(0px 1px 2px rgba(0, 0, 0, 0.3));\n",
              "    fill: #FFFFFF;\n",
              "  }\n",
              "</style>\n",
              "\n",
              "    <script>\n",
              "      async function quickchart(key) {\n",
              "        const containerElement = document.querySelector('#' + key);\n",
              "        const charts = await google.colab.kernel.invokeFunction(\n",
              "            'suggestCharts', [key], {});\n",
              "      }\n",
              "    </script>\n",
              "\n",
              "      <script>\n",
              "\n",
              "function displayQuickchartButton(domScope) {\n",
              "  let quickchartButtonEl =\n",
              "    domScope.querySelector('#df-83fb9b32-02bc-4561-a0b2-eeb92beae300 button.colab-df-quickchart');\n",
              "  quickchartButtonEl.style.display =\n",
              "    google.colab.kernel.accessAllowed ? 'block' : 'none';\n",
              "}\n",
              "\n",
              "        displayQuickchartButton(document);\n",
              "      </script>\n",
              "      <style>\n",
              "    .colab-df-container {\n",
              "      display:flex;\n",
              "      flex-wrap:wrap;\n",
              "      gap: 12px;\n",
              "    }\n",
              "\n",
              "    .colab-df-convert {\n",
              "      background-color: #E8F0FE;\n",
              "      border: none;\n",
              "      border-radius: 50%;\n",
              "      cursor: pointer;\n",
              "      display: none;\n",
              "      fill: #1967D2;\n",
              "      height: 32px;\n",
              "      padding: 0 0 0 0;\n",
              "      width: 32px;\n",
              "    }\n",
              "\n",
              "    .colab-df-convert:hover {\n",
              "      background-color: #E2EBFA;\n",
              "      box-shadow: 0px 1px 2px rgba(60, 64, 67, 0.3), 0px 1px 3px 1px rgba(60, 64, 67, 0.15);\n",
              "      fill: #174EA6;\n",
              "    }\n",
              "\n",
              "    [theme=dark] .colab-df-convert {\n",
              "      background-color: #3B4455;\n",
              "      fill: #D2E3FC;\n",
              "    }\n",
              "\n",
              "    [theme=dark] .colab-df-convert:hover {\n",
              "      background-color: #434B5C;\n",
              "      box-shadow: 0px 1px 3px 1px rgba(0, 0, 0, 0.15);\n",
              "      filter: drop-shadow(0px 1px 2px rgba(0, 0, 0, 0.3));\n",
              "      fill: #FFFFFF;\n",
              "    }\n",
              "  </style>\n",
              "\n",
              "      <script>\n",
              "        const buttonEl =\n",
              "          document.querySelector('#df-2701423c-bb8b-42a8-b3f2-25bb33a80f6a button.colab-df-convert');\n",
              "        buttonEl.style.display =\n",
              "          google.colab.kernel.accessAllowed ? 'block' : 'none';\n",
              "\n",
              "        async function convertToInteractive(key) {\n",
              "          const element = document.querySelector('#df-2701423c-bb8b-42a8-b3f2-25bb33a80f6a');\n",
              "          const dataTable =\n",
              "            await google.colab.kernel.invokeFunction('convertToInteractive',\n",
              "                                                     [key], {});\n",
              "          if (!dataTable) return;\n",
              "\n",
              "          const docLinkHtml = 'Like what you see? Visit the ' +\n",
              "            '<a target=\"_blank\" href=https://colab.research.google.com/notebooks/data_table.ipynb>data table notebook</a>'\n",
              "            + ' to learn more about interactive tables.';\n",
              "          element.innerHTML = '';\n",
              "          dataTable['output_type'] = 'display_data';\n",
              "          await google.colab.output.renderOutput(dataTable, element);\n",
              "          const docLink = document.createElement('div');\n",
              "          docLink.innerHTML = docLinkHtml;\n",
              "          element.appendChild(docLink);\n",
              "        }\n",
              "      </script>\n",
              "    </div>\n",
              "  </div>\n"
            ]
          },
          "metadata": {},
          "execution_count": 194
        }
      ]
    },
    {
      "cell_type": "markdown",
      "source": [
        "**Listę zapisz do pliku csv**"
      ],
      "metadata": {
        "id": "UhVgAuDpD2ok"
      }
    },
    {
      "cell_type": "code",
      "source": [
        "earliest_album.to_csv('Najwcześniejsze albumy.csv', index=False)"
      ],
      "metadata": {
        "id": "5QIs0BsKD7Vj"
      },
      "execution_count": null,
      "outputs": []
    }
  ]
}