{
  "nbformat": 4,
  "nbformat_minor": 0,
  "metadata": {
    "colab": {
      "provenance": [],
      "authorship_tag": "ABX9TyN1i2lAOiXppmuO4XRxvGJX",
      "include_colab_link": true
    },
    "kernelspec": {
      "name": "python3",
      "display_name": "Python 3"
    },
    "language_info": {
      "name": "python"
    }
  },
  "cells": [
    {
      "cell_type": "markdown",
      "metadata": {
        "id": "view-in-github",
        "colab_type": "text"
      },
      "source": [
        "<a href=\"https://colab.research.google.com/github/MarcinAn/Albumy/blob/main/Albumy.ipynb\" target=\"_parent\"><img src=\"https://colab.research.google.com/assets/colab-badge.svg\" alt=\"Open In Colab\"/></a>"
      ]
    },
    {
      "cell_type": "markdown",
      "source": [
        "**Pobieranie danych**"
      ],
      "metadata": {
        "id": "-ecOy8JvmKlw"
      }
    },
    {
      "cell_type": "code",
      "execution_count": 34,
      "metadata": {
        "id": "9cZkaZuIYHfO"
      },
      "outputs": [],
      "source": [
        "import pandas as pd\n",
        "data = pd.read_html('https://www.officialcharts.com/chart-news/the-best-selling-albums-of-all-time-on-the-official-uk-chart__15551', header=0)\n",
        "df = data[0]"
      ]
    },
    {
      "cell_type": "markdown",
      "source": [
        "**Zamień nagłówki kolumn na polskie odpowiedniki:**"
      ],
      "metadata": {
        "id": "xSORP858mZ5T"
      }
    },
    {
      "cell_type": "code",
      "source": [
        "df.rename(columns={'TITLE' : 'TYTUŁ','ARTIST':'ARTYSTA',\t'YEAR':'ROK',\t'HIGH POSN':'MAX POZ'}, inplace=True)\n",
        "df.columns"
      ],
      "metadata": {
        "colab": {
          "base_uri": "https://localhost:8080/"
        },
        "id": "nad9F78wYgyd",
        "outputId": "3b80c58f-8464-4336-ceaa-071635a55495"
      },
      "execution_count": 35,
      "outputs": [
        {
          "output_type": "execute_result",
          "data": {
            "text/plain": [
              "Index(['POS', 'TYTUŁ', 'ARTYSTA', 'ROK', 'MAX POZ'], dtype='object')"
            ]
          },
          "metadata": {},
          "execution_count": 35
        }
      ]
    },
    {
      "cell_type": "markdown",
      "source": [
        "**Ilu pojedynczych artystów znajduje się na liście?**"
      ],
      "metadata": {
        "id": "jJHTYPV0moeM"
      }
    },
    {
      "cell_type": "code",
      "source": [
        "print('Ilość pojedynczych artystów w liście:', len(df['ARTYSTA'].unique()))"
      ],
      "metadata": {
        "colab": {
          "base_uri": "https://localhost:8080/"
        },
        "id": "SGpxvVRcZYC5",
        "outputId": "9c922984-0f48-4f4b-acb0-43ee4811b849"
      },
      "execution_count": 36,
      "outputs": [
        {
          "output_type": "stream",
          "name": "stdout",
          "text": [
            "Ilość pojedynczych artystów w liście: 47\n"
          ]
        }
      ]
    },
    {
      "cell_type": "markdown",
      "source": [
        "**Które zespoły pojawiają się najczęściej na liście?**"
      ],
      "metadata": {
        "id": "ckix5OCIm_yx"
      }
    },
    {
      "cell_type": "code",
      "source": [
        "most_artist = pd.DataFrame(df['ARTYSTA'].value_counts() == max(df['ARTYSTA'].value_counts()))\n",
        "most_artist = most_artist[most_artist['ARTYSTA'] == True].reset_index()\n",
        "most_artist.drop('ARTYSTA', axis=1, inplace=True)\n",
        "print(f'Najczęściej występującymi artystami są: {most_artist.iloc[0,0]}, {most_artist.iloc[1,0]}')"
      ],
      "metadata": {
        "colab": {
          "base_uri": "https://localhost:8080/"
        },
        "id": "fl7YG7Ebzkl0",
        "outputId": "351ddea1-f594-4bea-efe7-08c58b31d77e"
      },
      "execution_count": 37,
      "outputs": [
        {
          "output_type": "stream",
          "name": "stdout",
          "text": [
            "Najczęściej występującymi artystami są: COLDPLAY, TAKE THAT\n"
          ]
        }
      ]
    },
    {
      "cell_type": "markdown",
      "source": [
        "**Zmień nagłówki kolumn, tak aby każdy z nich rozpoczynał się od wielkiej litery, a pozostałe były wprowadzone małymi literami.**"
      ],
      "metadata": {
        "id": "IgguaCr3nLvI"
      }
    },
    {
      "cell_type": "code",
      "source": [
        "df.rename(str.capitalize, axis='columns', inplace=True)\n",
        "df.columns"
      ],
      "metadata": {
        "colab": {
          "base_uri": "https://localhost:8080/"
        },
        "id": "4T8aIYCfjztV",
        "outputId": "07634b09-e9d7-4d57-f4c2-491fc9574c3b"
      },
      "execution_count": 38,
      "outputs": [
        {
          "output_type": "execute_result",
          "data": {
            "text/plain": [
              "Index(['Pos', 'Tytuł', 'Artysta', 'Rok', 'Max poz'], dtype='object')"
            ]
          },
          "metadata": {},
          "execution_count": 38
        }
      ]
    },
    {
      "cell_type": "markdown",
      "source": [
        "**Wyrzuć z tabeli kolumnę ‘Max Poz’.**"
      ],
      "metadata": {
        "id": "Nn3x5rMEnZFC"
      }
    },
    {
      "cell_type": "code",
      "source": [
        "df.drop(['Max poz'], axis=1, inplace=True)\n",
        "df.columns"
      ],
      "metadata": {
        "colab": {
          "base_uri": "https://localhost:8080/"
        },
        "id": "016SNRFznLVf",
        "outputId": "3575fc8a-37f7-44d0-b61a-e8de8bf1f718"
      },
      "execution_count": 39,
      "outputs": [
        {
          "output_type": "execute_result",
          "data": {
            "text/plain": [
              "Index(['Pos', 'Tytuł', 'Artysta', 'Rok'], dtype='object')"
            ]
          },
          "metadata": {},
          "execution_count": 39
        }
      ]
    },
    {
      "cell_type": "markdown",
      "source": [
        "**W którym roku wyszło najwięcej albumów znajdujących się na liście?**"
      ],
      "metadata": {
        "id": "gQ1pr4FEpCVy"
      }
    },
    {
      "cell_type": "code",
      "source": [
        "year = df.groupby('Rok').agg({'Tytuł':'count'})\n",
        "year = year[year['Tytuł']==year['Tytuł'].max()].reset_index()\n",
        "print('Lata w których wydano najwięcej albumów:')\n",
        "for y in year['Rok']:\n",
        "    print(y)"
      ],
      "metadata": {
        "colab": {
          "base_uri": "https://localhost:8080/"
        },
        "id": "B0SyAJRqpGxA",
        "outputId": "3c8d0b78-f551-4822-f618-e5cad314e7d4"
      },
      "execution_count": 40,
      "outputs": [
        {
          "output_type": "stream",
          "name": "stdout",
          "text": [
            "Lata w których wydano najwięcej albumów:\n",
            "1987\n",
            "2000\n"
          ]
        }
      ]
    },
    {
      "cell_type": "markdown",
      "source": [
        "**Ile albumów wydanych między 1960 a 1990 rokiem włącznie znajduje się na liście?**"
      ],
      "metadata": {
        "id": "dibc4dEnzGNa"
      }
    },
    {
      "cell_type": "code",
      "source": [
        "year_between = df[(df['Rok'] >= 1960) & (df['Rok'] <= 1990)]\n",
        "print('Ilość albumów wydanych pomiędzy 1960 a 1990 wynosi:', year_between['Tytuł'].count())"
      ],
      "metadata": {
        "colab": {
          "base_uri": "https://localhost:8080/"
        },
        "id": "f1K0QvSAzNxC",
        "outputId": "d5505455-7ec0-4cb8-a7f5-8cadde48be02"
      },
      "execution_count": 41,
      "outputs": [
        {
          "output_type": "stream",
          "name": "stdout",
          "text": [
            "Ilość albumów wydanych pomiędzy 1960 a 1990 wynosi: 22\n"
          ]
        }
      ]
    },
    {
      "cell_type": "markdown",
      "source": [
        "**W którym roku wydany został najmłodszy album na liście?**"
      ],
      "metadata": {
        "id": "_j-d1z_G6l4y"
      }
    },
    {
      "cell_type": "code",
      "source": [
        "df[df['Rok']==df['Rok'].max()]\n",
        "print('Najmłodszy album na liście został wydany w roku:', df['Rok'].max())"
      ],
      "metadata": {
        "colab": {
          "base_uri": "https://localhost:8080/"
        },
        "id": "zRV6_7Hd6_T_",
        "outputId": "1c46d1e1-cac0-4c18-b8d9-eb52b9856823"
      },
      "execution_count": 47,
      "outputs": [
        {
          "output_type": "stream",
          "name": "stdout",
          "text": [
            "Najmłodszy album na liście został wydany w roku: 2015\n"
          ]
        }
      ]
    },
    {
      "cell_type": "markdown",
      "source": [
        "**Przygotuj listę najwcześniej wydanych albumów każdego artysty, który znalazł się na liście.**"
      ],
      "metadata": {
        "id": "TJpgrgWN75zR"
      }
    },
    {
      "cell_type": "code",
      "source": [
        "earliest_album = df.sort_values(by='Rok')\n",
        "earliest_album = earliest_album.drop_duplicates(subset='Artysta', keep='first').reset_index()\n",
        "earliest_album = earliest_album.reset_index().drop(['index'], axis=1)\n",
        "earliest_album.drop({'level_0', 'Pos'}, axis=1, inplace=True)"
      ],
      "metadata": {
        "id": "kf8jWyyG79h-"
      },
      "execution_count": 53,
      "outputs": []
    },
    {
      "cell_type": "markdown",
      "source": [
        "**Listę zapisz do pliku csv**"
      ],
      "metadata": {
        "id": "UhVgAuDpD2ok"
      }
    },
    {
      "cell_type": "code",
      "source": [
        "earliest_album.to_csv('Najwcześniejsze albumy.csv', index=False)"
      ],
      "metadata": {
        "id": "5QIs0BsKD7Vj"
      },
      "execution_count": 56,
      "outputs": []
    }
  ]
}